{
 "cells": [
  {
   "cell_type": "code",
   "execution_count": 1,
   "metadata": {
    "ExecuteTime": {
     "end_time": "2018-06-23T21:42:28.719450Z",
     "start_time": "2018-06-23T21:42:28.706731Z"
    }
   },
   "outputs": [],
   "source": [
    "import pandas as pd\n",
    "import pickle\n",
    "import random\n",
    "pd.set_option('display.max_columns',100)\n",
    "%matplotlib inline\n"
   ]
  },
  {
   "cell_type": "code",
   "execution_count": 2,
   "metadata": {
    "ExecuteTime": {
     "end_time": "2018-06-23T21:42:29.109894Z",
     "start_time": "2018-06-23T21:42:28.904339Z"
    }
   },
   "outputs": [],
   "source": [
    "newsData = pd.read_pickle('../Data/Feedly_Processed_DF_cleaned.pkl')\n",
    "sectorLabels = pd.read_csv('../Data/Labeled_Data/sectors.csv')[['article_id','top_sector','Sectors']]"
   ]
  },
  {
   "cell_type": "code",
   "execution_count": 69,
   "metadata": {},
   "outputs": [
    {
     "data": {
      "text/plain": [
       "85"
      ]
     },
     "execution_count": 69,
     "metadata": {},
     "output_type": "execute_result"
    }
   ],
   "source": [
    "len(newsData[newsData['url'].str.contains('iadb')])"
   ]
  },
  {
   "cell_type": "code",
   "execution_count": 70,
   "metadata": {},
   "outputs": [],
   "source": [
    "#remove iadb website\n",
    "newsData = newsData[~newsData['url'].str.contains('iadb')]"
   ]
  },
  {
   "cell_type": "code",
   "execution_count": 71,
   "metadata": {
    "ExecuteTime": {
     "end_time": "2018-06-23T21:44:32.070177Z",
     "start_time": "2018-06-23T21:44:32.023331Z"
    }
   },
   "outputs": [
    {
     "data": {
      "text/html": [
       "<div>\n",
       "<style scoped>\n",
       "    .dataframe tbody tr th:only-of-type {\n",
       "        vertical-align: middle;\n",
       "    }\n",
       "\n",
       "    .dataframe tbody tr th {\n",
       "        vertical-align: top;\n",
       "    }\n",
       "\n",
       "    .dataframe thead th {\n",
       "        text-align: right;\n",
       "    }\n",
       "</style>\n",
       "<table border=\"1\" class=\"dataframe\">\n",
       "  <thead>\n",
       "    <tr style=\"text-align: right;\">\n",
       "      <th></th>\n",
       "      <th>article_id</th>\n",
       "      <th>title</th>\n",
       "      <th>article_text</th>\n",
       "      <th>top_sector</th>\n",
       "      <th>content</th>\n",
       "      <th>sector</th>\n",
       "    </tr>\n",
       "  </thead>\n",
       "  <tbody>\n",
       "    <tr>\n",
       "      <th>0</th>\n",
       "      <td>5eca9220</td>\n",
       "      <td>AfDB, GCF partner on 'Desert-to-Power' scheme</td>\n",
       "      <td>The African Development Bank (AfDB), Green Cli...</td>\n",
       "      <td>MISC</td>\n",
       "      <td>AfDB, GCF partner on 'Desert-to-Power' scheme ...</td>\n",
       "      <td>MISC</td>\n",
       "    </tr>\n",
       "    <tr>\n",
       "      <th>1</th>\n",
       "      <td>ee5530a3</td>\n",
       "      <td>AIIB approves $1.5 bln of loans to India for i...</td>\n",
       "      <td>NEW DELHI, Feb 27 (Reuters) - China-based Asia...</td>\n",
       "      <td>transport</td>\n",
       "      <td>AIIB approves $1.5 bln of loans to India for i...</td>\n",
       "      <td>transport</td>\n",
       "    </tr>\n",
       "    <tr>\n",
       "      <th>2</th>\n",
       "      <td>185416ad</td>\n",
       "      <td>India, ADB sign USD 250 million loan agreement...</td>\n",
       "      <td>Here are some suggestions that matches your en...</td>\n",
       "      <td>transport</td>\n",
       "      <td>India, ADB sign USD 250 million loan agreement...</td>\n",
       "      <td>transport</td>\n",
       "    </tr>\n",
       "    <tr>\n",
       "      <th>3</th>\n",
       "      <td>ef56fb55</td>\n",
       "      <td>EIB approves $1.8bn financing for Trans-Adriat...</td>\n",
       "      <td>Compelo is using cookies\\n\\nWe use them to giv...</td>\n",
       "      <td>energy</td>\n",
       "      <td>EIB approves $1.8bn financing for Trans-Adriat...</td>\n",
       "      <td>energy</td>\n",
       "    </tr>\n",
       "    <tr>\n",
       "      <th>4</th>\n",
       "      <td>85f28676</td>\n",
       "      <td>EBRD increases its portfolio in Azerbaijan</td>\n",
       "      <td>Baku, Azerbaijan, April 9\\n\\nBy Anvar Mammadov...</td>\n",
       "      <td>industry and trade</td>\n",
       "      <td>EBRD increases its portfolio in Azerbaijan \\nB...</td>\n",
       "      <td>industry and trade</td>\n",
       "    </tr>\n",
       "  </tbody>\n",
       "</table>\n",
       "</div>"
      ],
      "text/plain": [
       "  article_id                                              title  \\\n",
       "0   5eca9220      AfDB, GCF partner on 'Desert-to-Power' scheme   \n",
       "1   ee5530a3  AIIB approves $1.5 bln of loans to India for i...   \n",
       "2   185416ad  India, ADB sign USD 250 million loan agreement...   \n",
       "3   ef56fb55  EIB approves $1.8bn financing for Trans-Adriat...   \n",
       "4   85f28676         EBRD increases its portfolio in Azerbaijan   \n",
       "\n",
       "                                        article_text          top_sector  \\\n",
       "0  The African Development Bank (AfDB), Green Cli...                MISC   \n",
       "1  NEW DELHI, Feb 27 (Reuters) - China-based Asia...           transport   \n",
       "2  Here are some suggestions that matches your en...           transport   \n",
       "3  Compelo is using cookies\\n\\nWe use them to giv...              energy   \n",
       "4  Baku, Azerbaijan, April 9\\n\\nBy Anvar Mammadov...  industry and trade   \n",
       "\n",
       "                                             content              sector  \n",
       "0  AfDB, GCF partner on 'Desert-to-Power' scheme ...                MISC  \n",
       "1  AIIB approves $1.5 bln of loans to India for i...           transport  \n",
       "2  India, ADB sign USD 250 million loan agreement...           transport  \n",
       "3  EIB approves $1.8bn financing for Trans-Adriat...              energy  \n",
       "4  EBRD increases its portfolio in Azerbaijan \\nB...  industry and trade  "
      ]
     },
     "execution_count": 71,
     "metadata": {},
     "output_type": "execute_result"
    }
   ],
   "source": [
    "articles_df = pd.merge(newsData,sectorLabels, on='article_id')[['article_id','title','article_text','top_sector']]\n",
    "articles_df['content'] = articles_df['title'] + \" \\n\" + articles_df['article_text']\n",
    "articles_df['sector'] = articles_df['top_sector']\n",
    "articles_df.head()"
   ]
  },
  {
   "cell_type": "code",
   "execution_count": 72,
   "metadata": {
    "ExecuteTime": {
     "end_time": "2018-06-23T21:42:29.372659Z",
     "start_time": "2018-06-23T21:42:29.191673Z"
    }
   },
   "outputs": [],
   "source": [
    "projects_df = pd.read_csv('../Data/EWS_Published Project_Listing_DD.csv', encoding='ISO-8859-1')\n"
   ]
  },
  {
   "cell_type": "code",
   "execution_count": 73,
   "metadata": {
    "ExecuteTime": {
     "end_time": "2018-06-23T21:42:29.423491Z",
     "start_time": "2018-06-23T21:42:29.374569Z"
    }
   },
   "outputs": [
    {
     "data": {
      "text/html": [
       "<div>\n",
       "<style scoped>\n",
       "    .dataframe tbody tr th:only-of-type {\n",
       "        vertical-align: middle;\n",
       "    }\n",
       "\n",
       "    .dataframe tbody tr th {\n",
       "        vertical-align: top;\n",
       "    }\n",
       "\n",
       "    .dataframe thead th {\n",
       "        text-align: right;\n",
       "    }\n",
       "</style>\n",
       "<table border=\"1\" class=\"dataframe\">\n",
       "  <thead>\n",
       "    <tr style=\"text-align: right;\">\n",
       "      <th></th>\n",
       "      <th>EWS ID</th>\n",
       "      <th>ProjectNumber</th>\n",
       "      <th>Published</th>\n",
       "      <th>Bank Risk Rating</th>\n",
       "      <th>Project Status</th>\n",
       "      <th>EWS URL</th>\n",
       "      <th>Detailed Analysis URL</th>\n",
       "      <th>Project Name</th>\n",
       "      <th>City</th>\n",
       "      <th>Country Count</th>\n",
       "      <th>Country 1</th>\n",
       "      <th>Country 2</th>\n",
       "      <th>Country 3</th>\n",
       "      <th>Country 4</th>\n",
       "      <th>Country 5</th>\n",
       "      <th>Country 6</th>\n",
       "      <th>Country 7</th>\n",
       "      <th>Country 8</th>\n",
       "      <th>Country 9</th>\n",
       "      <th>Country 10</th>\n",
       "      <th>Country 11</th>\n",
       "      <th>Country 12</th>\n",
       "      <th>Borrower or Client</th>\n",
       "      <th>Private Actor Count</th>\n",
       "      <th>Private Actor 1</th>\n",
       "      <th>Private Actor 2</th>\n",
       "      <th>Private Actor 3</th>\n",
       "      <th>Private Actor 4</th>\n",
       "      <th>Private Actor 5</th>\n",
       "      <th>Private Actor 6</th>\n",
       "      <th>Private Actor 7</th>\n",
       "      <th>Private Actor 8</th>\n",
       "      <th>Private Actor 9</th>\n",
       "      <th>Private Actor 10</th>\n",
       "      <th>Private Actor 11</th>\n",
       "      <th>Private Actor 12</th>\n",
       "      <th>Private Actor 13</th>\n",
       "      <th>Private Actor 14</th>\n",
       "      <th>Private Actor 15</th>\n",
       "      <th>Bank Count</th>\n",
       "      <th>Bank 1</th>\n",
       "      <th>Bank 2</th>\n",
       "      <th>Bank 3</th>\n",
       "      <th>Bank 4</th>\n",
       "      <th>Bank 5</th>\n",
       "      <th>Sector Count</th>\n",
       "      <th>Sector 1</th>\n",
       "      <th>Sector 2</th>\n",
       "      <th>Sector 3</th>\n",
       "      <th>Sector 4</th>\n",
       "      <th>Sector 5</th>\n",
       "      <th>Sector 6</th>\n",
       "      <th>Sector 7</th>\n",
       "      <th>Last Edited</th>\n",
       "      <th>Date Scraped</th>\n",
       "      <th>Date Disclosed</th>\n",
       "      <th>Board Date</th>\n",
       "      <th>Source URL</th>\n",
       "      <th>Project Cost</th>\n",
       "      <th>Investment Amount</th>\n",
       "      <th>Project Description</th>\n",
       "      <th>Contact Information</th>\n",
       "    </tr>\n",
       "  </thead>\n",
       "  <tbody>\n",
       "    <tr>\n",
       "      <th>0</th>\n",
       "      <td>29164</td>\n",
       "      <td>AFDB-P-TN-BB0-007</td>\n",
       "      <td>Published</td>\n",
       "      <td>U</td>\n",
       "      <td>Proposed</td>\n",
       "      <td>https://ews.rightsindevelopment.org/projects/p...</td>\n",
       "      <td>NaN</td>\n",
       "      <td>TUNISIA FERTILIZER PROJECT</td>\n",
       "      <td>NaN</td>\n",
       "      <td>1</td>\n",
       "      <td>Tunisia</td>\n",
       "      <td>NaN</td>\n",
       "      <td>NaN</td>\n",
       "      <td>NaN</td>\n",
       "      <td>NaN</td>\n",
       "      <td>NaN</td>\n",
       "      <td>NaN</td>\n",
       "      <td>NaN</td>\n",
       "      <td>NaN</td>\n",
       "      <td>NaN</td>\n",
       "      <td>NaN</td>\n",
       "      <td>NaN</td>\n",
       "      <td>NaN</td>\n",
       "      <td>0.0</td>\n",
       "      <td>NaN</td>\n",
       "      <td>NaN</td>\n",
       "      <td>NaN</td>\n",
       "      <td>NaN</td>\n",
       "      <td>NaN</td>\n",
       "      <td>NaN</td>\n",
       "      <td>NaN</td>\n",
       "      <td>NaN</td>\n",
       "      <td>NaN</td>\n",
       "      <td>NaN</td>\n",
       "      <td>NaN</td>\n",
       "      <td>NaN</td>\n",
       "      <td>NaN</td>\n",
       "      <td>NaN</td>\n",
       "      <td>NaN</td>\n",
       "      <td>1</td>\n",
       "      <td>African Development Bank (AFDB)</td>\n",
       "      <td>NaN</td>\n",
       "      <td>NaN</td>\n",
       "      <td>NaN</td>\n",
       "      <td>NaN</td>\n",
       "      <td>1</td>\n",
       "      <td>Agriculture and Forestry</td>\n",
       "      <td>NaN</td>\n",
       "      <td>NaN</td>\n",
       "      <td>NaN</td>\n",
       "      <td>NaN</td>\n",
       "      <td>NaN</td>\n",
       "      <td>NaN</td>\n",
       "      <td>9/4/17</td>\n",
       "      <td>8/15/17</td>\n",
       "      <td>12/13/01</td>\n",
       "      <td>12/13/01</td>\n",
       "      <td>http://www.afdb.org/en/projects-and-operations...</td>\n",
       "      <td>NaN</td>\n",
       "      <td>NaN</td>\n",
       "      <td>None</td>\n",
       "      <td>ACCOUNTABILITY MECHANISM OF AfDB\\r\\r\\r\\rThe In...</td>\n",
       "    </tr>\n",
       "    <tr>\n",
       "      <th>1</th>\n",
       "      <td>29166</td>\n",
       "      <td>AFDB-P-SZ-HAA-001</td>\n",
       "      <td>Published</td>\n",
       "      <td>U</td>\n",
       "      <td>Approved</td>\n",
       "      <td>https://ews.rightsindevelopment.org/projects/p...</td>\n",
       "      <td>NaN</td>\n",
       "      <td>LINE OF CREDIT TO SWAZILAND DEVELOPMENT FINANC...</td>\n",
       "      <td>NaN</td>\n",
       "      <td>1</td>\n",
       "      <td>Swaziland</td>\n",
       "      <td>NaN</td>\n",
       "      <td>NaN</td>\n",
       "      <td>NaN</td>\n",
       "      <td>NaN</td>\n",
       "      <td>NaN</td>\n",
       "      <td>NaN</td>\n",
       "      <td>NaN</td>\n",
       "      <td>NaN</td>\n",
       "      <td>NaN</td>\n",
       "      <td>NaN</td>\n",
       "      <td>NaN</td>\n",
       "      <td>NaN</td>\n",
       "      <td>0.0</td>\n",
       "      <td>NaN</td>\n",
       "      <td>NaN</td>\n",
       "      <td>NaN</td>\n",
       "      <td>NaN</td>\n",
       "      <td>NaN</td>\n",
       "      <td>NaN</td>\n",
       "      <td>NaN</td>\n",
       "      <td>NaN</td>\n",
       "      <td>NaN</td>\n",
       "      <td>NaN</td>\n",
       "      <td>NaN</td>\n",
       "      <td>NaN</td>\n",
       "      <td>NaN</td>\n",
       "      <td>NaN</td>\n",
       "      <td>NaN</td>\n",
       "      <td>1</td>\n",
       "      <td>African Development Bank (AFDB)</td>\n",
       "      <td>NaN</td>\n",
       "      <td>NaN</td>\n",
       "      <td>NaN</td>\n",
       "      <td>NaN</td>\n",
       "      <td>2</td>\n",
       "      <td>Finance</td>\n",
       "      <td>Industry and Trade</td>\n",
       "      <td>NaN</td>\n",
       "      <td>NaN</td>\n",
       "      <td>NaN</td>\n",
       "      <td>NaN</td>\n",
       "      <td>NaN</td>\n",
       "      <td>9/4/17</td>\n",
       "      <td>8/15/17</td>\n",
       "      <td>12/13/01</td>\n",
       "      <td>5/12/17</td>\n",
       "      <td>http://www.afdb.org/en/projects-and-operations...</td>\n",
       "      <td>4.76</td>\n",
       "      <td>1.36</td>\n",
       "      <td>None</td>\n",
       "      <td>MACHARIA Lilian Wanjiru - PIFD1\\r\\r\\r\\rACCOUNT...</td>\n",
       "    </tr>\n",
       "    <tr>\n",
       "      <th>2</th>\n",
       "      <td>29931</td>\n",
       "      <td>IADB-UR-T1100</td>\n",
       "      <td>Pending</td>\n",
       "      <td>C</td>\n",
       "      <td>Approved</td>\n",
       "      <td>https://ews.rightsindevelopment.org/projects/u...</td>\n",
       "      <td>NaN</td>\n",
       "      <td>Supporting INEFOP in Improving Labor Training ...</td>\n",
       "      <td>NaN</td>\n",
       "      <td>1</td>\n",
       "      <td>Uruguay</td>\n",
       "      <td>NaN</td>\n",
       "      <td>NaN</td>\n",
       "      <td>NaN</td>\n",
       "      <td>NaN</td>\n",
       "      <td>NaN</td>\n",
       "      <td>NaN</td>\n",
       "      <td>NaN</td>\n",
       "      <td>NaN</td>\n",
       "      <td>NaN</td>\n",
       "      <td>NaN</td>\n",
       "      <td>NaN</td>\n",
       "      <td>NaN</td>\n",
       "      <td>0.0</td>\n",
       "      <td>NaN</td>\n",
       "      <td>NaN</td>\n",
       "      <td>NaN</td>\n",
       "      <td>NaN</td>\n",
       "      <td>NaN</td>\n",
       "      <td>NaN</td>\n",
       "      <td>NaN</td>\n",
       "      <td>NaN</td>\n",
       "      <td>NaN</td>\n",
       "      <td>NaN</td>\n",
       "      <td>NaN</td>\n",
       "      <td>NaN</td>\n",
       "      <td>NaN</td>\n",
       "      <td>NaN</td>\n",
       "      <td>NaN</td>\n",
       "      <td>1</td>\n",
       "      <td>Inter-American Development Bank (IADB)</td>\n",
       "      <td>NaN</td>\n",
       "      <td>NaN</td>\n",
       "      <td>NaN</td>\n",
       "      <td>NaN</td>\n",
       "      <td>0</td>\n",
       "      <td>NaN</td>\n",
       "      <td>NaN</td>\n",
       "      <td>NaN</td>\n",
       "      <td>NaN</td>\n",
       "      <td>NaN</td>\n",
       "      <td>NaN</td>\n",
       "      <td>NaN</td>\n",
       "      <td>NaN</td>\n",
       "      <td>10/3/17</td>\n",
       "      <td>12/31/99</td>\n",
       "      <td>7/16/13</td>\n",
       "      <td>http://www.iadb.org/en/projects/project-descri...</td>\n",
       "      <td>0.44</td>\n",
       "      <td>0.44</td>\n",
       "      <td>NaN</td>\n",
       "      <td>NaN</td>\n",
       "    </tr>\n",
       "    <tr>\n",
       "      <th>3</th>\n",
       "      <td>30104</td>\n",
       "      <td>IADB-BR-T1279</td>\n",
       "      <td>Pending</td>\n",
       "      <td>C</td>\n",
       "      <td>Approved</td>\n",
       "      <td>https://ews.rightsindevelopment.org/projects/b...</td>\n",
       "      <td>NaN</td>\n",
       "      <td>Racial Equality and Social, Economic, Politica...</td>\n",
       "      <td>NaN</td>\n",
       "      <td>1</td>\n",
       "      <td>Brazil</td>\n",
       "      <td>NaN</td>\n",
       "      <td>NaN</td>\n",
       "      <td>NaN</td>\n",
       "      <td>NaN</td>\n",
       "      <td>NaN</td>\n",
       "      <td>NaN</td>\n",
       "      <td>NaN</td>\n",
       "      <td>NaN</td>\n",
       "      <td>NaN</td>\n",
       "      <td>NaN</td>\n",
       "      <td>NaN</td>\n",
       "      <td>NaN</td>\n",
       "      <td>0.0</td>\n",
       "      <td>NaN</td>\n",
       "      <td>NaN</td>\n",
       "      <td>NaN</td>\n",
       "      <td>NaN</td>\n",
       "      <td>NaN</td>\n",
       "      <td>NaN</td>\n",
       "      <td>NaN</td>\n",
       "      <td>NaN</td>\n",
       "      <td>NaN</td>\n",
       "      <td>NaN</td>\n",
       "      <td>NaN</td>\n",
       "      <td>NaN</td>\n",
       "      <td>NaN</td>\n",
       "      <td>NaN</td>\n",
       "      <td>NaN</td>\n",
       "      <td>1</td>\n",
       "      <td>Inter-American Development Bank (IADB)</td>\n",
       "      <td>NaN</td>\n",
       "      <td>NaN</td>\n",
       "      <td>NaN</td>\n",
       "      <td>NaN</td>\n",
       "      <td>0</td>\n",
       "      <td>NaN</td>\n",
       "      <td>NaN</td>\n",
       "      <td>NaN</td>\n",
       "      <td>NaN</td>\n",
       "      <td>NaN</td>\n",
       "      <td>NaN</td>\n",
       "      <td>NaN</td>\n",
       "      <td>NaN</td>\n",
       "      <td>10/3/17</td>\n",
       "      <td>12/31/99</td>\n",
       "      <td>6/4/13</td>\n",
       "      <td>http://www.iadb.org/en/projects/project-descri...</td>\n",
       "      <td>0.97</td>\n",
       "      <td>0.82</td>\n",
       "      <td>NaN</td>\n",
       "      <td>NaN</td>\n",
       "    </tr>\n",
       "    <tr>\n",
       "      <th>4</th>\n",
       "      <td>30322</td>\n",
       "      <td>IADB-PE-T1297</td>\n",
       "      <td>Pending</td>\n",
       "      <td>C</td>\n",
       "      <td>Approved</td>\n",
       "      <td>https://ews.rightsindevelopment.org/projects/p...</td>\n",
       "      <td>NaN</td>\n",
       "      <td>Adaptation to Climate Change of the Fishery Se...</td>\n",
       "      <td>NaN</td>\n",
       "      <td>1</td>\n",
       "      <td>Peru</td>\n",
       "      <td>NaN</td>\n",
       "      <td>NaN</td>\n",
       "      <td>NaN</td>\n",
       "      <td>NaN</td>\n",
       "      <td>NaN</td>\n",
       "      <td>NaN</td>\n",
       "      <td>NaN</td>\n",
       "      <td>NaN</td>\n",
       "      <td>NaN</td>\n",
       "      <td>NaN</td>\n",
       "      <td>NaN</td>\n",
       "      <td>NaN</td>\n",
       "      <td>0.0</td>\n",
       "      <td>NaN</td>\n",
       "      <td>NaN</td>\n",
       "      <td>NaN</td>\n",
       "      <td>NaN</td>\n",
       "      <td>NaN</td>\n",
       "      <td>NaN</td>\n",
       "      <td>NaN</td>\n",
       "      <td>NaN</td>\n",
       "      <td>NaN</td>\n",
       "      <td>NaN</td>\n",
       "      <td>NaN</td>\n",
       "      <td>NaN</td>\n",
       "      <td>NaN</td>\n",
       "      <td>NaN</td>\n",
       "      <td>NaN</td>\n",
       "      <td>1</td>\n",
       "      <td>Inter-American Development Bank (IADB)</td>\n",
       "      <td>NaN</td>\n",
       "      <td>NaN</td>\n",
       "      <td>NaN</td>\n",
       "      <td>NaN</td>\n",
       "      <td>0</td>\n",
       "      <td>NaN</td>\n",
       "      <td>NaN</td>\n",
       "      <td>NaN</td>\n",
       "      <td>NaN</td>\n",
       "      <td>NaN</td>\n",
       "      <td>NaN</td>\n",
       "      <td>NaN</td>\n",
       "      <td>NaN</td>\n",
       "      <td>10/3/17</td>\n",
       "      <td>12/31/99</td>\n",
       "      <td>12/4/13</td>\n",
       "      <td>http://www.iadb.org/en/projects/project-descri...</td>\n",
       "      <td>1.50</td>\n",
       "      <td>1.50</td>\n",
       "      <td>NaN</td>\n",
       "      <td>NaN</td>\n",
       "    </tr>\n",
       "  </tbody>\n",
       "</table>\n",
       "</div>"
      ],
      "text/plain": [
       "   EWS ID      ProjectNumber  Published Bank Risk Rating Project Status  \\\n",
       "0   29164  AFDB-P-TN-BB0-007  Published                U       Proposed   \n",
       "1   29166  AFDB-P-SZ-HAA-001  Published                U       Approved   \n",
       "2   29931      IADB-UR-T1100    Pending                C       Approved   \n",
       "3   30104      IADB-BR-T1279    Pending                C       Approved   \n",
       "4   30322      IADB-PE-T1297    Pending                C       Approved   \n",
       "\n",
       "                                             EWS URL  Detailed Analysis URL  \\\n",
       "0  https://ews.rightsindevelopment.org/projects/p...                    NaN   \n",
       "1  https://ews.rightsindevelopment.org/projects/p...                    NaN   \n",
       "2  https://ews.rightsindevelopment.org/projects/u...                    NaN   \n",
       "3  https://ews.rightsindevelopment.org/projects/b...                    NaN   \n",
       "4  https://ews.rightsindevelopment.org/projects/p...                    NaN   \n",
       "\n",
       "                                        Project Name City  Country Count  \\\n",
       "0                         TUNISIA FERTILIZER PROJECT  NaN              1   \n",
       "1  LINE OF CREDIT TO SWAZILAND DEVELOPMENT FINANC...  NaN              1   \n",
       "2  Supporting INEFOP in Improving Labor Training ...  NaN              1   \n",
       "3  Racial Equality and Social, Economic, Politica...  NaN              1   \n",
       "4  Adaptation to Climate Change of the Fishery Se...  NaN              1   \n",
       "\n",
       "   Country 1 Country 2 Country 3 Country 4 Country 5 Country 6 Country 7  \\\n",
       "0    Tunisia       NaN       NaN       NaN       NaN       NaN       NaN   \n",
       "1  Swaziland       NaN       NaN       NaN       NaN       NaN       NaN   \n",
       "2    Uruguay       NaN       NaN       NaN       NaN       NaN       NaN   \n",
       "3     Brazil       NaN       NaN       NaN       NaN       NaN       NaN   \n",
       "4       Peru       NaN       NaN       NaN       NaN       NaN       NaN   \n",
       "\n",
       "  Country 8 Country 9 Country 10 Country 11 Country 12 Borrower or Client  \\\n",
       "0       NaN       NaN        NaN        NaN        NaN                NaN   \n",
       "1       NaN       NaN        NaN        NaN        NaN                NaN   \n",
       "2       NaN       NaN        NaN        NaN        NaN                NaN   \n",
       "3       NaN       NaN        NaN        NaN        NaN                NaN   \n",
       "4       NaN       NaN        NaN        NaN        NaN                NaN   \n",
       "\n",
       "   Private Actor Count Private Actor 1 Private Actor 2 Private Actor 3  \\\n",
       "0                  0.0             NaN             NaN             NaN   \n",
       "1                  0.0             NaN             NaN             NaN   \n",
       "2                  0.0             NaN             NaN             NaN   \n",
       "3                  0.0             NaN             NaN             NaN   \n",
       "4                  0.0             NaN             NaN             NaN   \n",
       "\n",
       "  Private Actor 4 Private Actor 5 Private Actor 6 Private Actor 7  \\\n",
       "0             NaN             NaN             NaN             NaN   \n",
       "1             NaN             NaN             NaN             NaN   \n",
       "2             NaN             NaN             NaN             NaN   \n",
       "3             NaN             NaN             NaN             NaN   \n",
       "4             NaN             NaN             NaN             NaN   \n",
       "\n",
       "  Private Actor 8  Private Actor 9  Private Actor 10  Private Actor 11  \\\n",
       "0             NaN              NaN               NaN               NaN   \n",
       "1             NaN              NaN               NaN               NaN   \n",
       "2             NaN              NaN               NaN               NaN   \n",
       "3             NaN              NaN               NaN               NaN   \n",
       "4             NaN              NaN               NaN               NaN   \n",
       "\n",
       "   Private Actor 12  Private Actor 13  Private Actor 14  Private Actor 15  \\\n",
       "0               NaN               NaN               NaN               NaN   \n",
       "1               NaN               NaN               NaN               NaN   \n",
       "2               NaN               NaN               NaN               NaN   \n",
       "3               NaN               NaN               NaN               NaN   \n",
       "4               NaN               NaN               NaN               NaN   \n",
       "\n",
       "   Bank Count                                  Bank 1 Bank 2 Bank 3 Bank 4  \\\n",
       "0           1         African Development Bank (AFDB)    NaN    NaN    NaN   \n",
       "1           1         African Development Bank (AFDB)    NaN    NaN    NaN   \n",
       "2           1  Inter-American Development Bank (IADB)    NaN    NaN    NaN   \n",
       "3           1  Inter-American Development Bank (IADB)    NaN    NaN    NaN   \n",
       "4           1  Inter-American Development Bank (IADB)    NaN    NaN    NaN   \n",
       "\n",
       "   Bank 5  Sector Count                  Sector 1            Sector 2  \\\n",
       "0     NaN             1  Agriculture and Forestry                 NaN   \n",
       "1     NaN             2                   Finance  Industry and Trade   \n",
       "2     NaN             0                       NaN                 NaN   \n",
       "3     NaN             0                       NaN                 NaN   \n",
       "4     NaN             0                       NaN                 NaN   \n",
       "\n",
       "  Sector 3 Sector 4 Sector 5 Sector 6 Sector 7 Last Edited Date Scraped  \\\n",
       "0      NaN      NaN      NaN      NaN      NaN      9/4/17      8/15/17   \n",
       "1      NaN      NaN      NaN      NaN      NaN      9/4/17      8/15/17   \n",
       "2      NaN      NaN      NaN      NaN      NaN         NaN      10/3/17   \n",
       "3      NaN      NaN      NaN      NaN      NaN         NaN      10/3/17   \n",
       "4      NaN      NaN      NaN      NaN      NaN         NaN      10/3/17   \n",
       "\n",
       "  Date Disclosed Board Date  \\\n",
       "0       12/13/01   12/13/01   \n",
       "1       12/13/01    5/12/17   \n",
       "2       12/31/99    7/16/13   \n",
       "3       12/31/99     6/4/13   \n",
       "4       12/31/99    12/4/13   \n",
       "\n",
       "                                          Source URL  Project Cost  \\\n",
       "0  http://www.afdb.org/en/projects-and-operations...           NaN   \n",
       "1  http://www.afdb.org/en/projects-and-operations...          4.76   \n",
       "2  http://www.iadb.org/en/projects/project-descri...          0.44   \n",
       "3  http://www.iadb.org/en/projects/project-descri...          0.97   \n",
       "4  http://www.iadb.org/en/projects/project-descri...          1.50   \n",
       "\n",
       "   Investment Amount Project Description  \\\n",
       "0                NaN                None   \n",
       "1               1.36                None   \n",
       "2               0.44                 NaN   \n",
       "3               0.82                 NaN   \n",
       "4               1.50                 NaN   \n",
       "\n",
       "                                 Contact Information  \n",
       "0  ACCOUNTABILITY MECHANISM OF AfDB\\r\\r\\r\\rThe In...  \n",
       "1  MACHARIA Lilian Wanjiru - PIFD1\\r\\r\\r\\rACCOUNT...  \n",
       "2                                                NaN  \n",
       "3                                                NaN  \n",
       "4                                                NaN  "
      ]
     },
     "execution_count": 73,
     "metadata": {},
     "output_type": "execute_result"
    }
   ],
   "source": [
    "projects_df.head()"
   ]
  },
  {
   "cell_type": "code",
   "execution_count": 74,
   "metadata": {
    "ExecuteTime": {
     "end_time": "2018-06-23T21:42:29.509405Z",
     "start_time": "2018-06-23T21:42:29.503935Z"
    }
   },
   "outputs": [],
   "source": [
    "projects_df['Project Description'] = projects_df['Project Description'].fillna(\"\")"
   ]
  },
  {
   "cell_type": "code",
   "execution_count": 75,
   "metadata": {
    "ExecuteTime": {
     "end_time": "2018-06-23T21:42:29.731654Z",
     "start_time": "2018-06-23T21:42:29.672641Z"
    }
   },
   "outputs": [],
   "source": [
    "detailed_projects_df = projects_df[ projects_df['Project Description'].apply(lambda x : len(x.split())) > 300 ]"
   ]
  },
  {
   "cell_type": "code",
   "execution_count": 76,
   "metadata": {
    "ExecuteTime": {
     "end_time": "2018-06-23T21:42:29.875776Z",
     "start_time": "2018-06-23T21:42:29.835857Z"
    }
   },
   "outputs": [
    {
     "data": {
      "text/html": [
       "<div>\n",
       "<style scoped>\n",
       "    .dataframe tbody tr th:only-of-type {\n",
       "        vertical-align: middle;\n",
       "    }\n",
       "\n",
       "    .dataframe tbody tr th {\n",
       "        vertical-align: top;\n",
       "    }\n",
       "\n",
       "    .dataframe thead th {\n",
       "        text-align: right;\n",
       "    }\n",
       "</style>\n",
       "<table border=\"1\" class=\"dataframe\">\n",
       "  <thead>\n",
       "    <tr style=\"text-align: right;\">\n",
       "      <th></th>\n",
       "      <th>Project Name</th>\n",
       "      <th>Sector 1</th>\n",
       "      <th>Project Description</th>\n",
       "      <th>content</th>\n",
       "    </tr>\n",
       "  </thead>\n",
       "  <tbody>\n",
       "    <tr>\n",
       "      <th>40</th>\n",
       "      <td>India: National Cyclone Risk Mitigation Projec...</td>\n",
       "      <td>Climate and Environment</td>\n",
       "      <td>The National Cyclone Risk Mitigation Project I...</td>\n",
       "      <td>India: National Cyclone Risk Mitigation Projec...</td>\n",
       "    </tr>\n",
       "    <tr>\n",
       "      <th>43</th>\n",
       "      <td>Cusco Regional Development</td>\n",
       "      <td>Industry and Trade</td>\n",
       "      <td>The Cusco Regional Development Project is loca...</td>\n",
       "      <td>Cusco Regional Development\\nThe Cusco Regional...</td>\n",
       "    </tr>\n",
       "    <tr>\n",
       "      <th>60</th>\n",
       "      <td>IN Uttar Pradesh Water Sector Restructuring Pr...</td>\n",
       "      <td>Water and Sanitation</td>\n",
       "      <td>World Bank documentation indicates that this p...</td>\n",
       "      <td>IN Uttar Pradesh Water Sector Restructuring Pr...</td>\n",
       "    </tr>\n",
       "    <tr>\n",
       "      <th>95</th>\n",
       "      <td>Abidjan-Lagos Trade and Transport Facilitation...</td>\n",
       "      <td>Technical Cooperation</td>\n",
       "      <td>The development objective of the Second Adapta...</td>\n",
       "      <td>Abidjan-Lagos Trade and Transport Facilitation...</td>\n",
       "    </tr>\n",
       "    <tr>\n",
       "      <th>101</th>\n",
       "      <td>Coastal Watersheds Conservation in the Context...</td>\n",
       "      <td>Agriculture and Forestry</td>\n",
       "      <td>According to The Bank, the goal of the project...</td>\n",
       "      <td>Coastal Watersheds Conservation in the Context...</td>\n",
       "    </tr>\n",
       "  </tbody>\n",
       "</table>\n",
       "</div>"
      ],
      "text/plain": [
       "                                          Project Name  \\\n",
       "40   India: National Cyclone Risk Mitigation Projec...   \n",
       "43                          Cusco Regional Development   \n",
       "60   IN Uttar Pradesh Water Sector Restructuring Pr...   \n",
       "95   Abidjan-Lagos Trade and Transport Facilitation...   \n",
       "101  Coastal Watersheds Conservation in the Context...   \n",
       "\n",
       "                     Sector 1  \\\n",
       "40    Climate and Environment   \n",
       "43         Industry and Trade   \n",
       "60       Water and Sanitation   \n",
       "95      Technical Cooperation   \n",
       "101  Agriculture and Forestry   \n",
       "\n",
       "                                   Project Description  \\\n",
       "40   The National Cyclone Risk Mitigation Project I...   \n",
       "43   The Cusco Regional Development Project is loca...   \n",
       "60   World Bank documentation indicates that this p...   \n",
       "95   The development objective of the Second Adapta...   \n",
       "101  According to The Bank, the goal of the project...   \n",
       "\n",
       "                                               content  \n",
       "40   India: National Cyclone Risk Mitigation Projec...  \n",
       "43   Cusco Regional Development\\nThe Cusco Regional...  \n",
       "60   IN Uttar Pradesh Water Sector Restructuring Pr...  \n",
       "95   Abidjan-Lagos Trade and Transport Facilitation...  \n",
       "101  Coastal Watersheds Conservation in the Context...  "
      ]
     },
     "execution_count": 76,
     "metadata": {},
     "output_type": "execute_result"
    }
   ],
   "source": [
    "detailed_projects_df = detailed_projects_df[['Project Name','Sector 1','Project Description']]\n",
    "detailed_projects_df['content'] = detailed_projects_df['Project Name'] + \"\\n\" +  detailed_projects_df['Project Description']\n",
    "detailed_projects_df.head()"
   ]
  },
  {
   "cell_type": "code",
   "execution_count": 77,
   "metadata": {},
   "outputs": [
    {
     "data": {
      "text/html": [
       "<div>\n",
       "<style scoped>\n",
       "    .dataframe tbody tr th:only-of-type {\n",
       "        vertical-align: middle;\n",
       "    }\n",
       "\n",
       "    .dataframe tbody tr th {\n",
       "        vertical-align: top;\n",
       "    }\n",
       "\n",
       "    .dataframe thead th {\n",
       "        text-align: right;\n",
       "    }\n",
       "</style>\n",
       "<table border=\"1\" class=\"dataframe\">\n",
       "  <thead>\n",
       "    <tr style=\"text-align: right;\">\n",
       "      <th></th>\n",
       "      <th>Project Name</th>\n",
       "      <th>Sector 1</th>\n",
       "      <th>Project Description</th>\n",
       "      <th>content</th>\n",
       "    </tr>\n",
       "  </thead>\n",
       "  <tbody>\n",
       "    <tr>\n",
       "      <th>40</th>\n",
       "      <td>India: National Cyclone Risk Mitigation Projec...</td>\n",
       "      <td>Climate and Environment</td>\n",
       "      <td>The National Cyclone Risk Mitigation Project I...</td>\n",
       "      <td>India: National Cyclone Risk Mitigation Projec...</td>\n",
       "    </tr>\n",
       "    <tr>\n",
       "      <th>43</th>\n",
       "      <td>Cusco Regional Development</td>\n",
       "      <td>Industry and Trade</td>\n",
       "      <td>The Cusco Regional Development Project is loca...</td>\n",
       "      <td>Cusco Regional Development\\nThe Cusco Regional...</td>\n",
       "    </tr>\n",
       "    <tr>\n",
       "      <th>60</th>\n",
       "      <td>IN Uttar Pradesh Water Sector Restructuring Pr...</td>\n",
       "      <td>Water and Sanitation</td>\n",
       "      <td>World Bank documentation indicates that this p...</td>\n",
       "      <td>IN Uttar Pradesh Water Sector Restructuring Pr...</td>\n",
       "    </tr>\n",
       "    <tr>\n",
       "      <th>95</th>\n",
       "      <td>Abidjan-Lagos Trade and Transport Facilitation...</td>\n",
       "      <td>Technical Cooperation</td>\n",
       "      <td>The development objective of the Second Adapta...</td>\n",
       "      <td>Abidjan-Lagos Trade and Transport Facilitation...</td>\n",
       "    </tr>\n",
       "    <tr>\n",
       "      <th>101</th>\n",
       "      <td>Coastal Watersheds Conservation in the Context...</td>\n",
       "      <td>Agriculture and Forestry</td>\n",
       "      <td>According to The Bank, the goal of the project...</td>\n",
       "      <td>Coastal Watersheds Conservation in the Context...</td>\n",
       "    </tr>\n",
       "  </tbody>\n",
       "</table>\n",
       "</div>"
      ],
      "text/plain": [
       "                                          Project Name  \\\n",
       "40   India: National Cyclone Risk Mitigation Projec...   \n",
       "43                          Cusco Regional Development   \n",
       "60   IN Uttar Pradesh Water Sector Restructuring Pr...   \n",
       "95   Abidjan-Lagos Trade and Transport Facilitation...   \n",
       "101  Coastal Watersheds Conservation in the Context...   \n",
       "\n",
       "                     Sector 1  \\\n",
       "40    Climate and Environment   \n",
       "43         Industry and Trade   \n",
       "60       Water and Sanitation   \n",
       "95      Technical Cooperation   \n",
       "101  Agriculture and Forestry   \n",
       "\n",
       "                                   Project Description  \\\n",
       "40   The National Cyclone Risk Mitigation Project I...   \n",
       "43   The Cusco Regional Development Project is loca...   \n",
       "60   World Bank documentation indicates that this p...   \n",
       "95   The development objective of the Second Adapta...   \n",
       "101  According to The Bank, the goal of the project...   \n",
       "\n",
       "                                               content  \n",
       "40   India: National Cyclone Risk Mitigation Projec...  \n",
       "43   Cusco Regional Development\\nThe Cusco Regional...  \n",
       "60   IN Uttar Pradesh Water Sector Restructuring Pr...  \n",
       "95   Abidjan-Lagos Trade and Transport Facilitation...  \n",
       "101  Coastal Watersheds Conservation in the Context...  "
      ]
     },
     "execution_count": 77,
     "metadata": {},
     "output_type": "execute_result"
    }
   ],
   "source": [
    "detailed_projects_df.head()"
   ]
  },
  {
   "cell_type": "code",
   "execution_count": 78,
   "metadata": {
    "ExecuteTime": {
     "end_time": "2018-06-23T21:42:30.015213Z",
     "start_time": "2018-06-23T21:42:30.010882Z"
    }
   },
   "outputs": [],
   "source": [
    "detailed_projects_df = detailed_projects_df.rename(columns = {'Project Name':'title','Sector 1': 'sector'})\n",
    "#detailed_projects_df['sector'] = detailed_projects_df['Sector 1']"
   ]
  },
  {
   "cell_type": "code",
   "execution_count": 79,
   "metadata": {
    "ExecuteTime": {
     "end_time": "2018-06-23T21:42:30.530396Z",
     "start_time": "2018-06-23T21:42:30.525290Z"
    }
   },
   "outputs": [
    {
     "data": {
      "text/plain": [
       "Index(['title', 'sector', 'Project Description', 'content'], dtype='object')"
      ]
     },
     "execution_count": 79,
     "metadata": {},
     "output_type": "execute_result"
    }
   ],
   "source": [
    "detailed_projects_df.columns"
   ]
  },
  {
   "cell_type": "code",
   "execution_count": 80,
   "metadata": {
    "ExecuteTime": {
     "end_time": "2018-06-23T21:44:35.143270Z",
     "start_time": "2018-06-23T21:44:35.132086Z"
    }
   },
   "outputs": [
    {
     "data": {
      "text/html": [
       "<div>\n",
       "<style scoped>\n",
       "    .dataframe tbody tr th:only-of-type {\n",
       "        vertical-align: middle;\n",
       "    }\n",
       "\n",
       "    .dataframe tbody tr th {\n",
       "        vertical-align: top;\n",
       "    }\n",
       "\n",
       "    .dataframe thead th {\n",
       "        text-align: right;\n",
       "    }\n",
       "</style>\n",
       "<table border=\"1\" class=\"dataframe\">\n",
       "  <thead>\n",
       "    <tr style=\"text-align: right;\">\n",
       "      <th></th>\n",
       "      <th>article_id</th>\n",
       "      <th>title</th>\n",
       "      <th>article_text</th>\n",
       "      <th>top_sector</th>\n",
       "      <th>content</th>\n",
       "      <th>sector</th>\n",
       "    </tr>\n",
       "  </thead>\n",
       "  <tbody>\n",
       "    <tr>\n",
       "      <th>0</th>\n",
       "      <td>5eca9220</td>\n",
       "      <td>AfDB, GCF partner on 'Desert-to-Power' scheme</td>\n",
       "      <td>The African Development Bank (AfDB), Green Cli...</td>\n",
       "      <td>MISC</td>\n",
       "      <td>AfDB, GCF partner on 'Desert-to-Power' scheme ...</td>\n",
       "      <td>MISC</td>\n",
       "    </tr>\n",
       "    <tr>\n",
       "      <th>1</th>\n",
       "      <td>ee5530a3</td>\n",
       "      <td>AIIB approves $1.5 bln of loans to India for i...</td>\n",
       "      <td>NEW DELHI, Feb 27 (Reuters) - China-based Asia...</td>\n",
       "      <td>transport</td>\n",
       "      <td>AIIB approves $1.5 bln of loans to India for i...</td>\n",
       "      <td>transport</td>\n",
       "    </tr>\n",
       "    <tr>\n",
       "      <th>2</th>\n",
       "      <td>185416ad</td>\n",
       "      <td>India, ADB sign USD 250 million loan agreement...</td>\n",
       "      <td>Here are some suggestions that matches your en...</td>\n",
       "      <td>transport</td>\n",
       "      <td>India, ADB sign USD 250 million loan agreement...</td>\n",
       "      <td>transport</td>\n",
       "    </tr>\n",
       "    <tr>\n",
       "      <th>3</th>\n",
       "      <td>ef56fb55</td>\n",
       "      <td>EIB approves $1.8bn financing for Trans-Adriat...</td>\n",
       "      <td>Compelo is using cookies\\n\\nWe use them to giv...</td>\n",
       "      <td>energy</td>\n",
       "      <td>EIB approves $1.8bn financing for Trans-Adriat...</td>\n",
       "      <td>energy</td>\n",
       "    </tr>\n",
       "    <tr>\n",
       "      <th>4</th>\n",
       "      <td>85f28676</td>\n",
       "      <td>EBRD increases its portfolio in Azerbaijan</td>\n",
       "      <td>Baku, Azerbaijan, April 9\\n\\nBy Anvar Mammadov...</td>\n",
       "      <td>industry and trade</td>\n",
       "      <td>EBRD increases its portfolio in Azerbaijan \\nB...</td>\n",
       "      <td>industry and trade</td>\n",
       "    </tr>\n",
       "  </tbody>\n",
       "</table>\n",
       "</div>"
      ],
      "text/plain": [
       "  article_id                                              title  \\\n",
       "0   5eca9220      AfDB, GCF partner on 'Desert-to-Power' scheme   \n",
       "1   ee5530a3  AIIB approves $1.5 bln of loans to India for i...   \n",
       "2   185416ad  India, ADB sign USD 250 million loan agreement...   \n",
       "3   ef56fb55  EIB approves $1.8bn financing for Trans-Adriat...   \n",
       "4   85f28676         EBRD increases its portfolio in Azerbaijan   \n",
       "\n",
       "                                        article_text          top_sector  \\\n",
       "0  The African Development Bank (AfDB), Green Cli...                MISC   \n",
       "1  NEW DELHI, Feb 27 (Reuters) - China-based Asia...           transport   \n",
       "2  Here are some suggestions that matches your en...           transport   \n",
       "3  Compelo is using cookies\\n\\nWe use them to giv...              energy   \n",
       "4  Baku, Azerbaijan, April 9\\n\\nBy Anvar Mammadov...  industry and trade   \n",
       "\n",
       "                                             content              sector  \n",
       "0  AfDB, GCF partner on 'Desert-to-Power' scheme ...                MISC  \n",
       "1  AIIB approves $1.5 bln of loans to India for i...           transport  \n",
       "2  India, ADB sign USD 250 million loan agreement...           transport  \n",
       "3  EIB approves $1.8bn financing for Trans-Adriat...              energy  \n",
       "4  EBRD increases its portfolio in Azerbaijan \\nB...  industry and trade  "
      ]
     },
     "execution_count": 80,
     "metadata": {},
     "output_type": "execute_result"
    }
   ],
   "source": [
    "articles_df.head()"
   ]
  },
  {
   "cell_type": "code",
   "execution_count": 81,
   "metadata": {
    "ExecuteTime": {
     "end_time": "2018-06-23T21:46:19.853249Z",
     "start_time": "2018-06-23T21:46:19.848374Z"
    }
   },
   "outputs": [],
   "source": [
    "merged_df = pd.concat(\n",
    "    \n",
    "    [\n",
    "        detailed_projects_df[['title','content','sector']]\n",
    "        , articles_df[['title','content','sector']]\n",
    "    ])"
   ]
  },
  {
   "cell_type": "code",
   "execution_count": 82,
   "metadata": {
    "ExecuteTime": {
     "end_time": "2018-06-23T21:46:37.689626Z",
     "start_time": "2018-06-23T21:46:37.685352Z"
    }
   },
   "outputs": [],
   "source": [
    "merged_df = merged_df[~pd.isnull(merged_df['sector'])]"
   ]
  },
  {
   "cell_type": "code",
   "execution_count": 83,
   "metadata": {
    "ExecuteTime": {
     "end_time": "2018-06-23T21:46:53.535292Z",
     "start_time": "2018-06-23T21:46:53.531432Z"
    }
   },
   "outputs": [
    {
     "data": {
      "text/plain": [
       "608"
      ]
     },
     "execution_count": 83,
     "metadata": {},
     "output_type": "execute_result"
    }
   ],
   "source": [
    "len(merged_df)"
   ]
  },
  {
   "cell_type": "code",
   "execution_count": 84,
   "metadata": {
    "ExecuteTime": {
     "end_time": "2018-06-23T21:46:43.973263Z",
     "start_time": "2018-06-23T21:46:43.964895Z"
    }
   },
   "outputs": [
    {
     "data": {
      "text/html": [
       "<div>\n",
       "<style scoped>\n",
       "    .dataframe tbody tr th:only-of-type {\n",
       "        vertical-align: middle;\n",
       "    }\n",
       "\n",
       "    .dataframe tbody tr th {\n",
       "        vertical-align: top;\n",
       "    }\n",
       "\n",
       "    .dataframe thead th {\n",
       "        text-align: right;\n",
       "    }\n",
       "</style>\n",
       "<table border=\"1\" class=\"dataframe\">\n",
       "  <thead>\n",
       "    <tr style=\"text-align: right;\">\n",
       "      <th></th>\n",
       "      <th>title</th>\n",
       "      <th>content</th>\n",
       "      <th>sector</th>\n",
       "    </tr>\n",
       "  </thead>\n",
       "  <tbody>\n",
       "    <tr>\n",
       "      <th>40</th>\n",
       "      <td>India: National Cyclone Risk Mitigation Projec...</td>\n",
       "      <td>India: National Cyclone Risk Mitigation Projec...</td>\n",
       "      <td>Climate and Environment</td>\n",
       "    </tr>\n",
       "    <tr>\n",
       "      <th>43</th>\n",
       "      <td>Cusco Regional Development</td>\n",
       "      <td>Cusco Regional Development\\nThe Cusco Regional...</td>\n",
       "      <td>Industry and Trade</td>\n",
       "    </tr>\n",
       "    <tr>\n",
       "      <th>60</th>\n",
       "      <td>IN Uttar Pradesh Water Sector Restructuring Pr...</td>\n",
       "      <td>IN Uttar Pradesh Water Sector Restructuring Pr...</td>\n",
       "      <td>Water and Sanitation</td>\n",
       "    </tr>\n",
       "    <tr>\n",
       "      <th>95</th>\n",
       "      <td>Abidjan-Lagos Trade and Transport Facilitation...</td>\n",
       "      <td>Abidjan-Lagos Trade and Transport Facilitation...</td>\n",
       "      <td>Technical Cooperation</td>\n",
       "    </tr>\n",
       "    <tr>\n",
       "      <th>101</th>\n",
       "      <td>Coastal Watersheds Conservation in the Context...</td>\n",
       "      <td>Coastal Watersheds Conservation in the Context...</td>\n",
       "      <td>Agriculture and Forestry</td>\n",
       "    </tr>\n",
       "  </tbody>\n",
       "</table>\n",
       "</div>"
      ],
      "text/plain": [
       "                                                 title  \\\n",
       "40   India: National Cyclone Risk Mitigation Projec...   \n",
       "43                          Cusco Regional Development   \n",
       "60   IN Uttar Pradesh Water Sector Restructuring Pr...   \n",
       "95   Abidjan-Lagos Trade and Transport Facilitation...   \n",
       "101  Coastal Watersheds Conservation in the Context...   \n",
       "\n",
       "                                               content  \\\n",
       "40   India: National Cyclone Risk Mitigation Projec...   \n",
       "43   Cusco Regional Development\\nThe Cusco Regional...   \n",
       "60   IN Uttar Pradesh Water Sector Restructuring Pr...   \n",
       "95   Abidjan-Lagos Trade and Transport Facilitation...   \n",
       "101  Coastal Watersheds Conservation in the Context...   \n",
       "\n",
       "                       sector  \n",
       "40    Climate and Environment  \n",
       "43         Industry and Trade  \n",
       "60       Water and Sanitation  \n",
       "95      Technical Cooperation  \n",
       "101  Agriculture and Forestry  "
      ]
     },
     "execution_count": 84,
     "metadata": {},
     "output_type": "execute_result"
    }
   ],
   "source": [
    "merged_df.head()"
   ]
  },
  {
   "cell_type": "code",
   "execution_count": 85,
   "metadata": {},
   "outputs": [
    {
     "data": {
      "text/plain": [
       "array(['Climate and Environment', 'Industry and Trade',\n",
       "       'Water and Sanitation', 'Technical Cooperation',\n",
       "       'Agriculture and Forestry', 'Mining', 'Energy', 'Construction',\n",
       "       'Communications', 'Hydropower', 'Finance', 'Law and Government',\n",
       "       'Education and Health', 'Transport', 'Infrastructure', 'MISC',\n",
       "       'transport', 'energy', 'industry and trade', 'infrastructure',\n",
       "       'finance', 'water and sanitation', 'construction', 'hydropower',\n",
       "       'communications', 'agriculture and forestry',\n",
       "       'education and health', 'humanitarian response'], dtype=object)"
      ]
     },
     "execution_count": 85,
     "metadata": {},
     "output_type": "execute_result"
    }
   ],
   "source": [
    "merged_df.sector.unique()"
   ]
  },
  {
   "cell_type": "code",
   "execution_count": 86,
   "metadata": {},
   "outputs": [],
   "source": [
    "merged_df['sector'] = merged_df['sector'].apply(lambda x: x.lower())"
   ]
  },
  {
   "cell_type": "code",
   "execution_count": 87,
   "metadata": {},
   "outputs": [],
   "source": [
    "dfg = merged_df.groupby(['sector']).size().reset_index(name = 'count')"
   ]
  },
  {
   "cell_type": "code",
   "execution_count": 88,
   "metadata": {},
   "outputs": [
    {
     "data": {
      "text/plain": [
       "array(['energy', 'finance', 'infrastructure', 'transport',\n",
       "       'agriculture and forestry', 'education and health',\n",
       "       'water and sanitation', 'industry and trade', 'construction',\n",
       "       'communications'], dtype=object)"
      ]
     },
     "execution_count": 88,
     "metadata": {},
     "output_type": "execute_result"
    }
   ],
   "source": [
    "dfg.sort_values(['count'],ascending = 0)[:10].sector.unique()"
   ]
  },
  {
   "cell_type": "code",
   "execution_count": 50,
   "metadata": {},
   "outputs": [
    {
     "data": {
      "text/html": [
       "<div>\n",
       "<style scoped>\n",
       "    .dataframe tbody tr th:only-of-type {\n",
       "        vertical-align: middle;\n",
       "    }\n",
       "\n",
       "    .dataframe tbody tr th {\n",
       "        vertical-align: top;\n",
       "    }\n",
       "\n",
       "    .dataframe thead th {\n",
       "        text-align: right;\n",
       "    }\n",
       "</style>\n",
       "<table border=\"1\" class=\"dataframe\">\n",
       "  <thead>\n",
       "    <tr style=\"text-align: right;\">\n",
       "      <th></th>\n",
       "      <th>title</th>\n",
       "      <th>content</th>\n",
       "      <th>sector</th>\n",
       "    </tr>\n",
       "  </thead>\n",
       "  <tbody>\n",
       "    <tr>\n",
       "      <th>40</th>\n",
       "      <td>India: National Cyclone Risk Mitigation Projec...</td>\n",
       "      <td>India: National Cyclone Risk Mitigation Projec...</td>\n",
       "      <td>climate and environment</td>\n",
       "    </tr>\n",
       "    <tr>\n",
       "      <th>43</th>\n",
       "      <td>Cusco Regional Development</td>\n",
       "      <td>Cusco Regional Development\\nThe Cusco Regional...</td>\n",
       "      <td>industry and trade</td>\n",
       "    </tr>\n",
       "    <tr>\n",
       "      <th>60</th>\n",
       "      <td>IN Uttar Pradesh Water Sector Restructuring Pr...</td>\n",
       "      <td>IN Uttar Pradesh Water Sector Restructuring Pr...</td>\n",
       "      <td>water and sanitation</td>\n",
       "    </tr>\n",
       "    <tr>\n",
       "      <th>95</th>\n",
       "      <td>Abidjan-Lagos Trade and Transport Facilitation...</td>\n",
       "      <td>Abidjan-Lagos Trade and Transport Facilitation...</td>\n",
       "      <td>technical cooperation</td>\n",
       "    </tr>\n",
       "    <tr>\n",
       "      <th>101</th>\n",
       "      <td>Coastal Watersheds Conservation in the Context...</td>\n",
       "      <td>Coastal Watersheds Conservation in the Context...</td>\n",
       "      <td>agriculture and forestry</td>\n",
       "    </tr>\n",
       "  </tbody>\n",
       "</table>\n",
       "</div>"
      ],
      "text/plain": [
       "                                                 title  \\\n",
       "40   India: National Cyclone Risk Mitigation Projec...   \n",
       "43                          Cusco Regional Development   \n",
       "60   IN Uttar Pradesh Water Sector Restructuring Pr...   \n",
       "95   Abidjan-Lagos Trade and Transport Facilitation...   \n",
       "101  Coastal Watersheds Conservation in the Context...   \n",
       "\n",
       "                                               content  \\\n",
       "40   India: National Cyclone Risk Mitigation Projec...   \n",
       "43   Cusco Regional Development\\nThe Cusco Regional...   \n",
       "60   IN Uttar Pradesh Water Sector Restructuring Pr...   \n",
       "95   Abidjan-Lagos Trade and Transport Facilitation...   \n",
       "101  Coastal Watersheds Conservation in the Context...   \n",
       "\n",
       "                       sector  \n",
       "40    climate and environment  \n",
       "43         industry and trade  \n",
       "60       water and sanitation  \n",
       "95      technical cooperation  \n",
       "101  agriculture and forestry  "
      ]
     },
     "execution_count": 50,
     "metadata": {},
     "output_type": "execute_result"
    }
   ],
   "source": [
    "merged_df.head()"
   ]
  },
  {
   "cell_type": "code",
   "execution_count": 89,
   "metadata": {},
   "outputs": [],
   "source": [
    "top_df = merged_df[merged_df['sector'].isin(dfg.sort_values(['count'],ascending = 0)[:10].sector.unique())]"
   ]
  },
  {
   "cell_type": "code",
   "execution_count": 54,
   "metadata": {},
   "outputs": [],
   "source": [
    "data = top_df['content']\n",
    "labels = top_df['sector']"
   ]
  },
  {
   "cell_type": "code",
   "execution_count": 63,
   "metadata": {},
   "outputs": [],
   "source": [
    "from sklearn.feature_extraction.text import TfidfVectorizer\n",
    "tfidf  = TfidfVectorizer(stop_words='english', min_df=5, max_df=0.9)\n",
    "\n",
    "docs   = tfidf.fit_transform(data)"
   ]
  },
  {
   "cell_type": "markdown",
   "metadata": {},
   "source": [
    "## want to build a multiclass classifier that uses text + title as input. want to also try topic modeling"
   ]
  },
  {
   "cell_type": "code",
   "execution_count": 170,
   "metadata": {},
   "outputs": [
    {
     "data": {
      "text/plain": [
       "array(['industry and trade', 'water and sanitation',\n",
       "       'agriculture and forestry', 'energy', 'construction',\n",
       "       'communications', 'finance', 'education and health', 'transport',\n",
       "       'infrastructure'], dtype=object)"
      ]
     },
     "execution_count": 170,
     "metadata": {},
     "output_type": "execute_result"
    }
   ],
   "source": [
    "#have to one hot encode the target variable. then split into test and train\n",
    "top_df.sector.unique()"
   ]
  },
  {
   "cell_type": "code",
   "execution_count": 95,
   "metadata": {},
   "outputs": [],
   "source": [
    "from sklearn import preprocessing\n",
    "le = preprocessing.LabelEncoder()"
   ]
  },
  {
   "cell_type": "code",
   "execution_count": 97,
   "metadata": {},
   "outputs": [
    {
     "name": "stderr",
     "output_type": "stream",
     "text": [
      "/anaconda/lib/python3.6/site-packages/ipykernel_launcher.py:1: SettingWithCopyWarning: \n",
      "A value is trying to be set on a copy of a slice from a DataFrame.\n",
      "Try using .loc[row_indexer,col_indexer] = value instead\n",
      "\n",
      "See the caveats in the documentation: http://pandas.pydata.org/pandas-docs/stable/indexing.html#indexing-view-versus-copy\n",
      "  \"\"\"Entry point for launching an IPython kernel.\n"
     ]
    }
   ],
   "source": [
    "top_df['target'] = le.fit_transform(labels)"
   ]
  },
  {
   "cell_type": "code",
   "execution_count": 100,
   "metadata": {},
   "outputs": [
    {
     "data": {
      "text/html": [
       "<div>\n",
       "<style scoped>\n",
       "    .dataframe tbody tr th:only-of-type {\n",
       "        vertical-align: middle;\n",
       "    }\n",
       "\n",
       "    .dataframe tbody tr th {\n",
       "        vertical-align: top;\n",
       "    }\n",
       "\n",
       "    .dataframe thead th {\n",
       "        text-align: right;\n",
       "    }\n",
       "</style>\n",
       "<table border=\"1\" class=\"dataframe\">\n",
       "  <thead>\n",
       "    <tr style=\"text-align: right;\">\n",
       "      <th></th>\n",
       "      <th>title</th>\n",
       "      <th>content</th>\n",
       "      <th>sector</th>\n",
       "      <th>target</th>\n",
       "    </tr>\n",
       "  </thead>\n",
       "  <tbody>\n",
       "    <tr>\n",
       "      <th>43</th>\n",
       "      <td>Cusco Regional Development</td>\n",
       "      <td>Cusco Regional Development\\nThe Cusco Regional...</td>\n",
       "      <td>industry and trade</td>\n",
       "      <td>6</td>\n",
       "    </tr>\n",
       "    <tr>\n",
       "      <th>60</th>\n",
       "      <td>IN Uttar Pradesh Water Sector Restructuring Pr...</td>\n",
       "      <td>IN Uttar Pradesh Water Sector Restructuring Pr...</td>\n",
       "      <td>water and sanitation</td>\n",
       "      <td>9</td>\n",
       "    </tr>\n",
       "    <tr>\n",
       "      <th>101</th>\n",
       "      <td>Coastal Watersheds Conservation in the Context...</td>\n",
       "      <td>Coastal Watersheds Conservation in the Context...</td>\n",
       "      <td>agriculture and forestry</td>\n",
       "      <td>0</td>\n",
       "    </tr>\n",
       "    <tr>\n",
       "      <th>235</th>\n",
       "      <td>Senegal Banda Gas to Power Guarantee</td>\n",
       "      <td>Senegal Banda Gas to Power Guarantee\\nAccordin...</td>\n",
       "      <td>energy</td>\n",
       "      <td>4</td>\n",
       "    </tr>\n",
       "    <tr>\n",
       "      <th>311</th>\n",
       "      <td>Etileno XXI</td>\n",
       "      <td>Etileno XXI\\nEtileno XXI (the Project) is the ...</td>\n",
       "      <td>construction</td>\n",
       "      <td>2</td>\n",
       "    </tr>\n",
       "  </tbody>\n",
       "</table>\n",
       "</div>"
      ],
      "text/plain": [
       "                                                 title  \\\n",
       "43                          Cusco Regional Development   \n",
       "60   IN Uttar Pradesh Water Sector Restructuring Pr...   \n",
       "101  Coastal Watersheds Conservation in the Context...   \n",
       "235               Senegal Banda Gas to Power Guarantee   \n",
       "311                                        Etileno XXI   \n",
       "\n",
       "                                               content  \\\n",
       "43   Cusco Regional Development\\nThe Cusco Regional...   \n",
       "60   IN Uttar Pradesh Water Sector Restructuring Pr...   \n",
       "101  Coastal Watersheds Conservation in the Context...   \n",
       "235  Senegal Banda Gas to Power Guarantee\\nAccordin...   \n",
       "311  Etileno XXI\\nEtileno XXI (the Project) is the ...   \n",
       "\n",
       "                       sector  target  \n",
       "43         industry and trade       6  \n",
       "60       water and sanitation       9  \n",
       "101  agriculture and forestry       0  \n",
       "235                    energy       4  \n",
       "311              construction       2  "
      ]
     },
     "execution_count": 100,
     "metadata": {},
     "output_type": "execute_result"
    }
   ],
   "source": [
    "top_df.head()"
   ]
  },
  {
   "cell_type": "code",
   "execution_count": 102,
   "metadata": {},
   "outputs": [],
   "source": [
    "from scipy.stats import randint\n",
    "from sklearn.linear_model import LogisticRegression\n",
    "from sklearn.ensemble import RandomForestClassifier\n",
    "from sklearn.pipeline import Pipeline\n",
    "from sklearn.model_selection import train_test_split, GridSearchCV, RandomizedSearchCV\n",
    "from sklearn.preprocessing import Imputer, StandardScaler, FunctionTransformer\n",
    "from sklearn.metrics import precision_recall_curve, confusion_matrix, roc_auc_score\n",
    "from sklearn.preprocessing import StandardScaler\n",
    "from sklearn.linear_model import LogisticRegression\n",
    "from sklearn.preprocessing import Imputer"
   ]
  },
  {
   "cell_type": "code",
   "execution_count": 103,
   "metadata": {},
   "outputs": [],
   "source": [
    "xdata =  top_df['content']\n",
    "ydata = top_df['target']"
   ]
  },
  {
   "cell_type": "code",
   "execution_count": 104,
   "metadata": {},
   "outputs": [],
   "source": [
    "X_train, X_test, y_train, y_test = train_test_split(xdata,ydata, test_size = 0.2, random_state = 1)"
   ]
  },
  {
   "cell_type": "code",
   "execution_count": 108,
   "metadata": {},
   "outputs": [],
   "source": [
    "ml_pipeline = Pipeline([\n",
    "    ('tfidf', TfidfVectorizer(stop_words='english', min_df=5, max_df=0.9)),\n",
    "    ('scaler', StandardScaler(with_mean=False)),\n",
    "    ('logreg', LogisticRegression(class_weight = \"balanced\", multi_class='ovr'))])"
   ]
  },
  {
   "cell_type": "code",
   "execution_count": null,
   "metadata": {},
   "outputs": [],
   "source": [
    "#no param testing yet, no text cleaning either"
   ]
  },
  {
   "cell_type": "code",
   "execution_count": 109,
   "metadata": {},
   "outputs": [
    {
     "data": {
      "text/plain": [
       "Pipeline(memory=None,\n",
       "     steps=[('tfidf', TfidfVectorizer(analyzer='word', binary=False, decode_error='strict',\n",
       "        dtype=<class 'numpy.int64'>, encoding='utf-8', input='content',\n",
       "        lowercase=True, max_df=0.9, max_features=None, min_df=5,\n",
       "        ngram_range=(1, 1), norm='l2', preprocessor=None, smooth_idf=True,\n",
       " ...ty='l2', random_state=None,\n",
       "          solver='liblinear', tol=0.0001, verbose=0, warm_start=False))])"
      ]
     },
     "execution_count": 109,
     "metadata": {},
     "output_type": "execute_result"
    }
   ],
   "source": [
    "ml_pipeline.fit(X_train, y_train)"
   ]
  },
  {
   "cell_type": "code",
   "execution_count": 110,
   "metadata": {},
   "outputs": [
    {
     "name": "stdout",
     "output_type": "stream",
     "text": [
      "----confusion matrix----\n",
      "[[ 3  0  0  1  1  1  0  0  1  1]\n",
      " [ 0  1  0  0  0  0  1  0  1  0]\n",
      " [ 0  0  1  0  2  0  0  1  0  1]\n",
      " [ 1  0  0  4  1  1  1  0  0  0]\n",
      " [ 0  0  0  0 25  0  1  0  0  0]\n",
      " [ 0  0  0  1  6  9  0  0  1  0]\n",
      " [ 1  0  0  0  2  0  0  2  1  1]\n",
      " [ 0  1  0  0  4  0  0  7  2  1]\n",
      " [ 0  0  0  0  0  0  0  2 11  1]\n",
      " [ 1  0  0  0  0  1  1  0  1  3]]\n",
      "----classification report----\n",
      "             precision    recall  f1-score   support\n",
      "\n",
      "          0       0.50      0.38      0.43         8\n",
      "          1       0.50      0.33      0.40         3\n",
      "          2       1.00      0.20      0.33         5\n",
      "          3       0.67      0.50      0.57         8\n",
      "          4       0.61      0.96      0.75        26\n",
      "          5       0.75      0.53      0.62        17\n",
      "          6       0.00      0.00      0.00         7\n",
      "          7       0.58      0.47      0.52        15\n",
      "          8       0.61      0.79      0.69        14\n",
      "          9       0.38      0.43      0.40         7\n",
      "\n",
      "avg / total       0.59      0.58      0.55       110\n",
      "\n"
     ]
    }
   ],
   "source": [
    "x_pred_test = ml_pipeline.predict(X_test)\n",
    "\n",
    "from sklearn import metrics\n",
    "print(\"----confusion matrix----\")\n",
    "print(metrics.confusion_matrix(y_test, x_pred_test))\n",
    "\n",
    "print(\"----classification report----\")\n",
    "print(metrics.classification_report(y_test, x_pred_test))"
   ]
  },
  {
   "cell_type": "code",
   "execution_count": 190,
   "metadata": {},
   "outputs": [],
   "source": [
    "df_conf = pd.DataFrame(dict(s1 = y_test, s2 = x_pred_test)).reset_index()\n",
    "df_conf.columns = [['old_index', 'y_test','x_pred']]\n"
   ]
  },
  {
   "cell_type": "code",
   "execution_count": null,
   "metadata": {},
   "outputs": [],
   "source": []
  },
  {
   "cell_type": "code",
   "execution_count": 171,
   "metadata": {},
   "outputs": [
    {
     "name": "stderr",
     "output_type": "stream",
     "text": [
      "/anaconda/lib/python3.6/site-packages/ipykernel_launcher.py:2: SettingWithCopyWarning: \n",
      "A value is trying to be set on a copy of a slice from a DataFrame\n",
      "\n",
      "See the caveats in the documentation: http://pandas.pydata.org/pandas-docs/stable/indexing.html#indexing-view-versus-copy\n",
      "  \n"
     ]
    }
   ],
   "source": [
    "labeled_targets = top_df[['sector', 'target']]\n",
    "labeled_targets.drop_duplicates(inplace = True)"
   ]
  },
  {
   "cell_type": "code",
   "execution_count": 175,
   "metadata": {},
   "outputs": [
    {
     "data": {
      "text/plain": [
       "array([6, 9, 0, 4, 2, 1, 5, 3, 8, 7])"
      ]
     },
     "execution_count": 175,
     "metadata": {},
     "output_type": "execute_result"
    }
   ],
   "source": [
    "labeled_targets.target.unique()"
   ]
  },
  {
   "cell_type": "code",
   "execution_count": 184,
   "metadata": {},
   "outputs": [],
   "source": [
    "sectors = labeled_targets.sector.unique()\n",
    "labels = labeled_targets.target.unique()\n",
    "label_dict = {}\n",
    "for i in range(0, len(sectors)):\n",
    "    label_dict[labels[i]] = sectors[i]"
   ]
  },
  {
   "cell_type": "code",
   "execution_count": 185,
   "metadata": {},
   "outputs": [
    {
     "data": {
      "text/plain": [
       "{6: 'industry and trade',\n",
       " 9: 'water and sanitation',\n",
       " 0: 'agriculture and forestry',\n",
       " 4: 'energy',\n",
       " 2: 'construction',\n",
       " 1: 'communications',\n",
       " 5: 'finance',\n",
       " 3: 'education and health',\n",
       " 8: 'transport',\n",
       " 7: 'infrastructure'}"
      ]
     },
     "execution_count": 185,
     "metadata": {},
     "output_type": "execute_result"
    }
   ],
   "source": [
    "label_dict"
   ]
  },
  {
   "cell_type": "code",
   "execution_count": 126,
   "metadata": {},
   "outputs": [],
   "source": [
    "from pandas_ml import ConfusionMatrix"
   ]
  },
  {
   "cell_type": "code",
   "execution_count": 150,
   "metadata": {},
   "outputs": [],
   "source": [
    "y_true = df_conf['y_test']"
   ]
  },
  {
   "cell_type": "code",
   "execution_count": null,
   "metadata": {},
   "outputs": [],
   "source": [
    "def get_label(x):\n",
    "    return label_dict[x]\n",
    "    "
   ]
  },
  {
   "cell_type": "code",
   "execution_count": 198,
   "metadata": {},
   "outputs": [
    {
     "name": "stderr",
     "output_type": "stream",
     "text": [
      "/anaconda/lib/python3.6/site-packages/ipykernel_launcher.py:2: DeprecationWarning: \n",
      ".ix is deprecated. Please use\n",
      ".loc for label based indexing or\n",
      ".iloc for positional indexing\n",
      "\n",
      "See the documentation here:\n",
      "http://pandas.pydata.org/pandas-docs/stable/indexing.html#ix-indexer-is-deprecated\n",
      "  \n"
     ]
    }
   ],
   "source": [
    "true_labels = []\n",
    "for i in df_conf['y_test'].ix[:, 0].tolist():\n",
    "    true_labels.append(label_dict[i])"
   ]
  },
  {
   "cell_type": "code",
   "execution_count": 197,
   "metadata": {},
   "outputs": [
    {
     "name": "stderr",
     "output_type": "stream",
     "text": [
      "/anaconda/lib/python3.6/site-packages/ipykernel_launcher.py:2: DeprecationWarning: \n",
      ".ix is deprecated. Please use\n",
      ".loc for label based indexing or\n",
      ".iloc for positional indexing\n",
      "\n",
      "See the documentation here:\n",
      "http://pandas.pydata.org/pandas-docs/stable/indexing.html#ix-indexer-is-deprecated\n",
      "  \n"
     ]
    }
   ],
   "source": [
    "pred_labels = []\n",
    "for i in df_conf['x_pred'].ix[:, 0].tolist():\n",
    "    pred_labels.append(label_dict[i])"
   ]
  },
  {
   "cell_type": "code",
   "execution_count": null,
   "metadata": {},
   "outputs": [],
   "source": [
    "confusion_matrix = ConfusionMatrix(true_labels, pred_labels)\n",
    "print(\"Confusion matrix:\\n%s\" % confusion_matrix)"
   ]
  },
  {
   "cell_type": "code",
   "execution_count": 209,
   "metadata": {},
   "outputs": [
    {
     "data": {
      "text/plain": [
       "<matplotlib.axes._subplots.AxesSubplot at 0x1a1eb0eb70>"
      ]
     },
     "execution_count": 209,
     "metadata": {},
     "output_type": "execute_result"
    },
    {
     "data": {
      "image/png": "[encoded data removed]",
      "text/plain": [
       "<Figure size 648x576 with 2 Axes>"
      ]
     },
     "metadata": {},
     "output_type": "display_data"
    }
   ],
   "source": [
    "import matplotlib.pyplot as plt\n",
    "\n",
    "confusion_matrix.plot()"
   ]
  },
  {
   "cell_type": "code",
   "execution_count": 204,
   "metadata": {},
   "outputs": [
    {
     "data": {
      "image/png": "[encoded data removed]",
      "text/plain": [
       "<Figure size 576x396 with 1 Axes>"
      ]
     },
     "metadata": {},
     "output_type": "display_data"
    }
   ],
   "source": [
    "from yellowbrick.classifier import ConfusionMatrix\n",
    "#model = trained scikitlean model\n",
    "\n",
    "# The ConfusionMatrix visualizer taxes a model\n",
    "cm = ConfusionMatrix(ml_pipeline, classes=[0,1,2,3,4,5,6,7,8,9])\n",
    "\n",
    "cm.score(X_test, y_test)\n",
    "\n",
    "cm.poof()"
   ]
  },
  {
   "cell_type": "code",
   "execution_count": 231,
   "metadata": {},
   "outputs": [],
   "source": [
    "#getting feature importance\n",
    "#coeff\n",
    "coef = ml_pipeline.steps[2][1].coef_[0]"
   ]
  },
  {
   "cell_type": "code",
   "execution_count": 229,
   "metadata": {},
   "outputs": [],
   "source": [
    "#\n",
    "feature_names = ml_pipeline.steps[0][1].get_feature_names()"
   ]
  },
  {
   "cell_type": "code",
   "execution_count": 233,
   "metadata": {},
   "outputs": [],
   "source": [
    "\n",
    "importance = pd.DataFrame(data = {'feature' : feature_names, 'coef' : coef})\n",
    "importance = importance.loc[importance.coef != 0,:]\n",
    "importance = importance.assign(f  = abs(importance['coef'])).sort_values('f', ascending=False).drop('f', axis=1)\n"
   ]
  },
  {
   "cell_type": "code",
   "execution_count": 236,
   "metadata": {},
   "outputs": [
    {
     "data": {
      "text/html": [
       "<div>\n",
       "<style scoped>\n",
       "    .dataframe tbody tr th:only-of-type {\n",
       "        vertical-align: middle;\n",
       "    }\n",
       "\n",
       "    .dataframe tbody tr th {\n",
       "        vertical-align: top;\n",
       "    }\n",
       "\n",
       "    .dataframe thead th {\n",
       "        text-align: right;\n",
       "    }\n",
       "</style>\n",
       "<table border=\"1\" class=\"dataframe\">\n",
       "  <thead>\n",
       "    <tr style=\"text-align: right;\">\n",
       "      <th></th>\n",
       "      <th>coef</th>\n",
       "      <th>feature</th>\n",
       "    </tr>\n",
       "  </thead>\n",
       "  <tbody>\n",
       "    <tr>\n",
       "      <th>273</th>\n",
       "      <td>0.268607</td>\n",
       "      <td>america</td>\n",
       "    </tr>\n",
       "    <tr>\n",
       "      <th>1093</th>\n",
       "      <td>0.228899</td>\n",
       "      <td>exports</td>\n",
       "    </tr>\n",
       "    <tr>\n",
       "      <th>242</th>\n",
       "      <td>0.173408</td>\n",
       "      <td>agro</td>\n",
       "    </tr>\n",
       "    <tr>\n",
       "      <th>2190</th>\n",
       "      <td>0.156703</td>\n",
       "      <td>production</td>\n",
       "    </tr>\n",
       "    <tr>\n",
       "      <th>1903</th>\n",
       "      <td>0.124066</td>\n",
       "      <td>north</td>\n",
       "    </tr>\n",
       "    <tr>\n",
       "      <th>1132</th>\n",
       "      <td>0.120990</td>\n",
       "      <td>farmers</td>\n",
       "    </tr>\n",
       "    <tr>\n",
       "      <th>1712</th>\n",
       "      <td>0.118817</td>\n",
       "      <td>m3</td>\n",
       "    </tr>\n",
       "    <tr>\n",
       "      <th>241</th>\n",
       "      <td>0.111866</td>\n",
       "      <td>agriculture</td>\n",
       "    </tr>\n",
       "    <tr>\n",
       "      <th>1048</th>\n",
       "      <td>0.108414</td>\n",
       "      <td>europe</td>\n",
       "    </tr>\n",
       "    <tr>\n",
       "      <th>2626</th>\n",
       "      <td>0.107451</td>\n",
       "      <td>sourcing</td>\n",
       "    </tr>\n",
       "    <tr>\n",
       "      <th>3019</th>\n",
       "      <td>0.103787</td>\n",
       "      <td>welfare</td>\n",
       "    </tr>\n",
       "    <tr>\n",
       "      <th>1193</th>\n",
       "      <td>0.102901</td>\n",
       "      <td>food</td>\n",
       "    </tr>\n",
       "    <tr>\n",
       "      <th>1686</th>\n",
       "      <td>0.102361</td>\n",
       "      <td>livestock</td>\n",
       "    </tr>\n",
       "    <tr>\n",
       "      <th>1406</th>\n",
       "      <td>0.099511</td>\n",
       "      <td>iii</td>\n",
       "    </tr>\n",
       "    <tr>\n",
       "      <th>38</th>\n",
       "      <td>0.095166</td>\n",
       "      <td>2008</td>\n",
       "    </tr>\n",
       "    <tr>\n",
       "      <th>2613</th>\n",
       "      <td>0.093716</td>\n",
       "      <td>soil</td>\n",
       "    </tr>\n",
       "    <tr>\n",
       "      <th>739</th>\n",
       "      <td>0.093179</td>\n",
       "      <td>crop</td>\n",
       "    </tr>\n",
       "    <tr>\n",
       "      <th>2736</th>\n",
       "      <td>0.092496</td>\n",
       "      <td>sugar</td>\n",
       "    </tr>\n",
       "    <tr>\n",
       "      <th>2187</th>\n",
       "      <td>0.091403</td>\n",
       "      <td>produces</td>\n",
       "    </tr>\n",
       "    <tr>\n",
       "      <th>976</th>\n",
       "      <td>0.089619</td>\n",
       "      <td>employ</td>\n",
       "    </tr>\n",
       "    <tr>\n",
       "      <th>1227</th>\n",
       "      <td>0.086973</td>\n",
       "      <td>fruit</td>\n",
       "    </tr>\n",
       "    <tr>\n",
       "      <th>3016</th>\n",
       "      <td>0.086558</td>\n",
       "      <td>weekly</td>\n",
       "    </tr>\n",
       "    <tr>\n",
       "      <th>3056</th>\n",
       "      <td>0.085827</td>\n",
       "      <td>yields</td>\n",
       "    </tr>\n",
       "    <tr>\n",
       "      <th>2220</th>\n",
       "      <td>0.084640</td>\n",
       "      <td>protected</td>\n",
       "    </tr>\n",
       "    <tr>\n",
       "      <th>1436</th>\n",
       "      <td>0.083654</td>\n",
       "      <td>including</td>\n",
       "    </tr>\n",
       "    <tr>\n",
       "      <th>346</th>\n",
       "      <td>0.079782</td>\n",
       "      <td>authorities</td>\n",
       "    </tr>\n",
       "    <tr>\n",
       "      <th>2179</th>\n",
       "      <td>0.079248</td>\n",
       "      <td>processing</td>\n",
       "    </tr>\n",
       "    <tr>\n",
       "      <th>1416</th>\n",
       "      <td>0.078946</td>\n",
       "      <td>implementing</td>\n",
       "    </tr>\n",
       "    <tr>\n",
       "      <th>112</th>\n",
       "      <td>0.078117</td>\n",
       "      <td>600</td>\n",
       "    </tr>\n",
       "    <tr>\n",
       "      <th>1315</th>\n",
       "      <td>0.077953</td>\n",
       "      <td>guidance</td>\n",
       "    </tr>\n",
       "  </tbody>\n",
       "</table>\n",
       "</div>"
      ],
      "text/plain": [
       "          coef       feature\n",
       "273   0.268607       america\n",
       "1093  0.228899       exports\n",
       "242   0.173408          agro\n",
       "2190  0.156703    production\n",
       "1903  0.124066         north\n",
       "1132  0.120990       farmers\n",
       "1712  0.118817            m3\n",
       "241   0.111866   agriculture\n",
       "1048  0.108414        europe\n",
       "2626  0.107451      sourcing\n",
       "3019  0.103787       welfare\n",
       "1193  0.102901          food\n",
       "1686  0.102361     livestock\n",
       "1406  0.099511           iii\n",
       "38    0.095166          2008\n",
       "2613  0.093716          soil\n",
       "739   0.093179          crop\n",
       "2736  0.092496         sugar\n",
       "2187  0.091403      produces\n",
       "976   0.089619        employ\n",
       "1227  0.086973         fruit\n",
       "3016  0.086558        weekly\n",
       "3056  0.085827        yields\n",
       "2220  0.084640     protected\n",
       "1436  0.083654     including\n",
       "346   0.079782   authorities\n",
       "2179  0.079248    processing\n",
       "1416  0.078946  implementing\n",
       "112   0.078117           600\n",
       "1315  0.077953      guidance"
      ]
     },
     "execution_count": 236,
     "metadata": {},
     "output_type": "execute_result"
    }
   ],
   "source": [
    "importance.sort_values(['coef'], ascending = 0).head(30)"
   ]
  },
  {
   "cell_type": "code",
   "execution_count": 205,
   "metadata": {},
   "outputs": [
    {
     "data": {
      "text/plain": [
       "110"
      ]
     },
     "execution_count": 205,
     "metadata": {},
     "output_type": "execute_result"
    }
   ],
   "source": [
    "len(y_test)"
   ]
  },
  {
   "cell_type": "code",
   "execution_count": 230,
   "metadata": {},
   "outputs": [
    {
     "data": {
      "text/plain": [
       "3064"
      ]
     },
     "execution_count": 230,
     "metadata": {},
     "output_type": "execute_result"
    }
   ],
   "source": [
    "len(feature_names) #way too many, have to do cleaning/maybe change min df, max df"
   ]
  },
  {
   "cell_type": "code",
   "execution_count": null,
   "metadata": {},
   "outputs": [],
   "source": [
    "## test set is way too small! also need to do a bit of data cleaning."
   ]
  },
  {
   "cell_type": "code",
   "execution_count": 65,
   "metadata": {},
   "outputs": [],
   "source": [
    "import pandas as pd\n",
    "from sklearn.feature_extraction.text import TfidfVectorizer, CountVectorizer\n",
    "from sklearn import manifold\n",
    "from yellowbrick.text import TSNEVisualizer\n",
    "from sklearn.feature_extraction.text import TfidfVectorizer"
   ]
  },
  {
   "cell_type": "code",
   "execution_count": 66,
   "metadata": {},
   "outputs": [
    {
     "data": {
      "image/png": "[encoded data removed]",
      "text/plain": [
       "<Figure size 576x396 with 1 Axes>"
      ]
     },
     "metadata": {},
     "output_type": "display_data"
    }
   ],
   "source": [
    "tsne = TSNEVisualizer()\n",
    "tsne.fit(docs, labels)\n",
    "tsne.poof()"
   ]
  },
  {
   "cell_type": "code",
   "execution_count": null,
   "metadata": {},
   "outputs": [],
   "source": [
    "merged"
   ]
  },
  {
   "cell_type": "code",
   "execution_count": null,
   "metadata": {},
   "outputs": [],
   "source": []
  }
 ],
 "metadata": {
  "kernelspec": {
   "display_name": "Python 3",
   "language": "python",
   "name": "python3"
  },
  "language_info": {
   "codemirror_mode": {
    "name": "ipython",
    "version": 3
   },
   "file_extension": ".py",
   "mimetype": "text/x-python",
   "name": "python",
   "nbconvert_exporter": "python",
   "pygments_lexer": "ipython3",
   "version": "3.6.5"
  }
 },
 "nbformat": 4,
 "nbformat_minor": 2
}
